{
 "cells": [
  {
   "cell_type": "code",
   "execution_count": 15,
   "metadata": {},
   "outputs": [],
   "source": [
    "import pandas as pd\n",
    "import numpy as np\n",
    "import random\n",
    "import matplotlib.pyplot as plt\n",
    "import seaborn as sns\n",
    "import os\n",
    "from dotenv import load_dotenv\n",
    "from supabase import create_client\n",
    "from surprise import (\n",
    "    Dataset,\n",
    "    KNNBaseline,\n",
    "    KNNBasic,\n",
    "    KNNWithMeans,\n",
    "    KNNWithZScore,\n",
    "    NMF,\n",
    "    SVD,\n",
    "    Reader,\n",
    ")\n",
    "from surprise.model_selection import cross_validate, KFold, GridSearchCV, train_test_split\n",
    "from tabulate import tabulate\n",
    "import datetime\n",
    "import time\n"
   ]
  },
  {
   "cell_type": "code",
   "execution_count": 2,
   "metadata": {},
   "outputs": [],
   "source": [
    "def initialising_supabase():\n",
    "    \"\"\"\n",
    "    Initializes the Supabase client using environment variables.\n",
    "\n",
    "    Environment Variables:\n",
    "        SUPABASE_URL (str): The URL of the Supabase project.\n",
    "        SUPABASE_API_KEY (str): The API key for accessing the Supabase project.\n",
    "\n",
    "    Returns:\n",
    "        supabase.Client: An initialized Supabase client instance.\n",
    "    \"\"\"\n",
    "\n",
    "    load_dotenv()\n",
    "    SUPABASE_URL = os.getenv(\"SUPABASE_URL\")\n",
    "    SUPABASE_API_KEY = os.getenv(\"SUPABASE_API_KEY\")\n",
    "    supabase = create_client(SUPABASE_URL, SUPABASE_API_KEY)\n",
    "    return supabase"
   ]
  },
  {
   "cell_type": "code",
   "execution_count": 3,
   "metadata": {},
   "outputs": [],
   "source": [
    "def load_product_data(supabase=None):\n",
    "    \"\"\"\n",
    "    Initializes the MongoDB client and connects to the specified database.\n",
    "\n",
    "    Environment Variables:\n",
    "        MONGODB_URI (str): The connection URI for MongoDB.\n",
    "        FLIPKART (str): The name of the MongoDB database to connect to.\n",
    "\n",
    "    Returns:\n",
    "        pymongo.database.Database: A MongoDB database instance.\n",
    "    \"\"\"\n",
    "\n",
    "    if supabase is None:\n",
    "        supabase = initialising_supabase()\n",
    "    # Load data from the flipkart_cleaned table in supabase\n",
    "    catalogue_data = supabase.table('flipkart_cleaned_2k').select('*').execute().data\n",
    " \n",
    "    return catalogue_data\n",
    "flipkart = load_product_data()\n",
    "\n",
    "def load_order_data(supabase=None): \n",
    "    \"\"\"\n",
    "    Loads product data from the 'flipkart_cleaned_2k' table in Supabase.\n",
    "\n",
    "    Args:\n",
    "        supabase (supabase.Client, optional): An initialized Supabase client. \n",
    "                                              If not provided, a new client is initialized.\n",
    "\n",
    "    Returns:\n",
    "        list[dict]: A list of dictionaries containing product data from the Supabase table.\n",
    "    \"\"\"\n",
    "    \n",
    "    if supabase is None:\n",
    "        supabase = initialising_supabase()\n",
    "    users_data = pd.DataFrame(supabase.table('synthetic_v2_2k').select('*').execute().data)\n",
    "    return users_data\n",
    "orderdata = load_order_data()"
   ]
  },
  {
   "cell_type": "markdown",
   "metadata": {},
   "source": [
    "### Memory Based Recommendations"
   ]
  },
  {
   "cell_type": "code",
   "execution_count": 4,
   "metadata": {},
   "outputs": [],
   "source": [
    "np.random.seed(0)\n",
    "random.seed(0)"
   ]
  },
  {
   "cell_type": "code",
   "execution_count": 5,
   "metadata": {},
   "outputs": [],
   "source": [
    "reader = Reader(rating_scale=(0, 5))\n",
    "dataset = Dataset.load_from_df(orderdata[['User ID' ,'uniq_id', 'User rating for the product']], reader)"
   ]
  },
  {
   "cell_type": "code",
   "execution_count": 6,
   "metadata": {},
   "outputs": [],
   "source": [
    "memory_algos = (\n",
    "    KNNBasic(verbose=False),\n",
    "    KNNWithMeans(verbose=False),\n",
    "    KNNBaseline(verbose=False),\n",
    "    KNNWithZScore(verbose=False),\n",
    ")"
   ]
  },
  {
   "cell_type": "code",
   "execution_count": 7,
   "metadata": {},
   "outputs": [
    {
     "name": "stdout",
     "output_type": "stream",
     "text": [
      "| Memory-Based Algorithm   |   RMSE |   MAE |\n",
      "|:-------------------------|-------:|------:|\n",
      "| KNNBasic                 |  1.15  | 0.914 |\n",
      "| KNNWithMeans             |  1.179 | 0.938 |\n",
      "| KNNBaseline              |  1.15  | 0.914 |\n",
      "| KNNWithZScore            |  1.176 | 0.937 |\n"
     ]
    }
   ],
   "source": [
    "kf =  KFold(random_state=0)\n",
    "table = []\n",
    "\n",
    "#summary of all the memory based algorithms based on k-nearest neighbours\n",
    "for algo in memory_algos:\n",
    "    start = time.time()\n",
    "    out = cross_validate(algo, dataset, [\"rmse\", \"mae\"], kf)\n",
    "    algo_name = algo.__class__.__name__\n",
    "    mean_rmse = \"{:.3f}\".format(np.mean(out[\"test_rmse\"]))\n",
    "    mean_mae = \"{:.3f}\".format(np.mean(out[\"test_mae\"]))\n",
    "\n",
    "    new_line = [algo_name, mean_rmse, mean_mae]\n",
    "    table.append(new_line)\n",
    "\n",
    "header = [\"Memory-Based Algorithm\", \"RMSE\", \"MAE\"]\n",
    "print(tabulate(table, header, tablefmt=\"pipe\"))"
   ]
  },
  {
   "cell_type": "code",
   "execution_count": 8,
   "metadata": {},
   "outputs": [
    {
     "name": "stdout",
     "output_type": "stream",
     "text": [
      "Estimating biases using als...\n",
      "Computing the pearson similarity matrix...\n",
      "Done computing similarity matrix.\n"
     ]
    }
   ],
   "source": [
    "trainset, testset = train_test_split(dataset, test_size=0.3, random_state=42)\n",
    "\n",
    "sim_options = {\n",
    "    'name': 'pearson',\n",
    "    'user_based': False,\n",
    "    'min_support': 5\n",
    "}\n",
    "\n",
    "memory_model = KNNBaseline(k=50, min_k=5, sim_options=sim_options)\n",
    "memory_model.fit(trainset)\n",
    "memory_predictions = memory_model.test(testset)"
   ]
  },
  {
   "cell_type": "markdown",
   "metadata": {},
   "source": [
    "### Non-Negative Matrix Factorisation"
   ]
  },
  {
   "cell_type": "code",
   "execution_count": 9,
   "metadata": {},
   "outputs": [
    {
     "data": {
      "text/plain": [
       "test_rmse    1.210964\n",
       "test_mae     0.970133\n",
       "fit_time     0.289852\n",
       "test_time    0.022789\n",
       "dtype: float64"
      ]
     },
     "execution_count": 9,
     "metadata": {},
     "output_type": "execute_result"
    }
   ],
   "source": [
    "model_nmf = NMF()\n",
    "cv_results_nmf = cross_validate(model_nmf, dataset, cv=3)\n",
    "nmf_mean_rmse = np.mean(cv_results_nmf[\"test_rmse\"])\n",
    "nmf_mean_mae = np.mean(cv_results_nmf[\"test_mae\"])\n",
    "table.append([\"NMF\", nmf_mean_rmse, nmf_mean_mae])\n",
    "pd.DataFrame(cv_results_nmf).mean()"
   ]
  },
  {
   "cell_type": "markdown",
   "metadata": {},
   "source": [
    "### Singular Value Decomposition"
   ]
  },
  {
   "cell_type": "code",
   "execution_count": 10,
   "metadata": {},
   "outputs": [
    {
     "data": {
      "text/plain": [
       "test_rmse    1.006604\n",
       "test_mae     0.809042\n",
       "fit_time     0.131919\n",
       "test_time    0.046473\n",
       "dtype: float64"
      ]
     },
     "execution_count": 10,
     "metadata": {},
     "output_type": "execute_result"
    }
   ],
   "source": [
    "model_svd = SVD()\n",
    "cv_results_svd = cross_validate(model_svd, dataset, cv=3)\n",
    "svd_mean_rmse = np.mean(cv_results_svd[\"test_rmse\"])\n",
    "svd_mean_mae = np.mean(cv_results_svd[\"test_mae\"])\n",
    "table.append([\"SVD\", svd_mean_rmse, svd_mean_mae])\n",
    "pd.DataFrame(cv_results_svd).mean()"
   ]
  },
  {
   "cell_type": "markdown",
   "metadata": {},
   "source": [
    "#### With grid-search to optimize further"
   ]
  },
  {
   "cell_type": "code",
   "execution_count": 16,
   "metadata": {},
   "outputs": [
    {
     "name": "stdout",
     "output_type": "stream",
     "text": [
      "{'n_factors': 80, 'n_epochs': 5, 'lr_all': 0.002, 'reg_all': 0.6}\n"
     ]
    }
   ],
   "source": [
    "param_grid = {'n_factors': [80,100,120],\n",
    "              'n_epochs': [5, 10, 20],\n",
    "              'lr_all': [0.002, 0.005],\n",
    "              'reg_all': [0.2, 0.4, 0.6]}\n",
    "\n",
    "gs = GridSearchCV(SVD, param_grid, measures=['rmse', 'mae'], cv=3)\n",
    "gs.fit(dataset)\n",
    "best_rmse = gs.best_score['rmse']\n",
    "best_mae = gs.best_score['mae']\n",
    "best_rmse_params = gs.best_params['rmse']\n",
    "table.append([\"SVD (GridSearch)\", best_rmse, best_mae])\n",
    "print(best_rmse_params)"
   ]
  },
  {
   "cell_type": "markdown",
   "metadata": {},
   "source": [
    "### Overall Results"
   ]
  },
  {
   "cell_type": "code",
   "execution_count": 13,
   "metadata": {},
   "outputs": [
    {
     "name": "stdout",
     "output_type": "stream",
     "text": [
      "          Algorithm Mean RMSE  Mean MAE\n",
      "0          KNNBasic     1.150     0.914\n",
      "1      KNNWithMeans     1.179     0.938\n",
      "2       KNNBaseline     1.150     0.914\n",
      "3     KNNWithZScore     1.176     0.937\n",
      "4               NMF  1.210964  0.970133\n",
      "5               SVD  1.006604  0.809042\n",
      "6  SVD (GridSearch)  0.982635  0.792074\n"
     ]
    }
   ],
   "source": [
    "# Convert to DataFrame for a single table\n",
    "results_df = pd.DataFrame(table, columns=[\"Algorithm\", \"Mean RMSE\", \"Mean MAE\"])\n",
    "\n",
    "# Print the table\n",
    "print(results_df)"
   ]
  }
 ],
 "metadata": {
  "kernelspec": {
   "display_name": "3.10",
   "language": "python",
   "name": "python3"
  },
  "language_info": {
   "codemirror_mode": {
    "name": "ipython",
    "version": 3
   },
   "file_extension": ".py",
   "mimetype": "text/x-python",
   "name": "python",
   "nbconvert_exporter": "python",
   "pygments_lexer": "ipython3",
   "version": "3.10.14"
  }
 },
 "nbformat": 4,
 "nbformat_minor": 2
}
