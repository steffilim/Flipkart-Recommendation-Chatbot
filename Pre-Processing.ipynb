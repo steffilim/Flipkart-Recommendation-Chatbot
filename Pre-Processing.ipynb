{
 "cells": [
  {
   "cell_type": "markdown",
   "metadata": {},
   "source": [
    "# Pre-Processing Datasets\n",
    "In this notebook, we will be pre-processing the datasets that we will be using for the project. We will be using the following datasets:\n",
    "1. Synthetic_orders.csv\n",
    "2. flipkart_com-ecommerce_updated.csv\n"
   ]
  },
  {
   "cell_type": "markdown",
   "metadata": {},
   "source": [
    "# importing libraries"
   ]
  },
  {
   "cell_type": "code",
   "execution_count": 1,
   "metadata": {},
   "outputs": [],
   "source": [
    "import pandas as pd\n"
   ]
  },
  {
   "cell_type": "markdown",
   "metadata": {},
   "source": [
    "## dataset"
   ]
  },
  {
   "cell_type": "code",
   "execution_count": 3,
   "metadata": {},
   "outputs": [],
   "source": [
    "# this section of code is used to remove all of the null values in the flipkart dataset. \n",
    "# new dataset is saved as 'flipkart_cleaned.csv'\n",
    "# with the new dataset, another set of synthetic data of orders are generated and saved as 'synthetic_v2.csv'\n",
    "\n",
    "'''# reading flipkart orders data\n",
    "filepath = 'oldData/flipkart_com-ecommerce_updated.csv'\n",
    "flipkart = pd.read_csv(filepath)\n",
    "\n",
    "# finding for null values\n",
    "flipkart.isnull().sum() # sum of null values in each column\n",
    "\n",
    "# changing column values\n",
    "\n",
    "## change nan values in 'brand' to 'Unbranded'\n",
    "flipkart['brand'] = flipkart['brand'].fillna('Unbranded')\n",
    "\n",
    "## removing rows with null values in 'product_specifications' and 'description'\n",
    "flipkart = flipkart.dropna(subset=['product_specifications', 'description', 'retail_price', 'discounted_price', 'image'])\n",
    "\n",
    "\n",
    "flipkart.isnull().sum()\n",
    "# at this point there should not be any null values in the dataset. \n",
    "\n",
    "# saving the cleaned data\n",
    "flipkart.to_csv('newData/flipkart_cleaned.csv', index=False)'''\n",
    "\n"
   ]
  },
  {
   "cell_type": "markdown",
   "metadata": {},
   "source": [
    "Summary of Data Cleaning Process of FlipKart Dataset:\n",
    "1. Changed Nan values in 'brand'to 'Unbranded'\n",
    "2. removing rows with null values in `product_specifications` and `description`\n",
    "3. Removing rows that has no `retail_price`, `discounted_price`, or `image`\n",
    "\n",
    "As the Synthetic Dataset is based off the FlipKart Dataset, we will be using the cleaned version of the FlipKart Dataset for the Synthetic Dataset.\n",
    "The new datasets can be found in the newData Folder. "
   ]
  },
  {
   "cell_type": "code",
   "execution_count": 4,
   "metadata": {},
   "outputs": [
    {
     "data": {
      "text/plain": [
       "Order ID                       0\n",
       "Product ID                     0\n",
       "Product Quantity               0\n",
       "Product Price Each             0\n",
       "Order Total                    0\n",
       "Order Date                     0\n",
       "Purchase Address               0\n",
       "User rating for the product    0\n",
       "User ID                        0\n",
       "User Age                       0\n",
       "User Occupation                0\n",
       "User Income                    0\n",
       "User Interests                 0\n",
       "User Ethnicity                 0\n",
       "dtype: int64"
      ]
     },
     "execution_count": 4,
     "metadata": {},
     "output_type": "execute_result"
    }
   ],
   "source": [
    "# reading synthetic orders data\n",
    "filepath = 'newData/synthetic_v2.csv'\n",
    "orders = pd.read_csv(filepath)\n",
    "orders.head()\n",
    "\n",
    "\n",
    "# finding for null values\n",
    "orders.isnull().sum() # sum of null values in each column"
   ]
  },
  {
   "cell_type": "code",
   "execution_count": null,
   "metadata": {},
   "outputs": [],
   "source": []
  }
 ],
 "metadata": {
  "kernelspec": {
   "display_name": "Python 3",
   "language": "python",
   "name": "python3"
  },
  "language_info": {
   "codemirror_mode": {
    "name": "ipython",
    "version": 3
   },
   "file_extension": ".py",
   "mimetype": "text/x-python",
   "name": "python",
   "nbconvert_exporter": "python",
   "pygments_lexer": "ipython3",
   "version": "3.11.5"
  }
 },
 "nbformat": 4,
 "nbformat_minor": 2
}
